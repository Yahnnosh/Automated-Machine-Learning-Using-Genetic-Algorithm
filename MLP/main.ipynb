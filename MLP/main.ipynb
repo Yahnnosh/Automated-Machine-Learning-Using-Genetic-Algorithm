{
 "cells": [
  {
   "cell_type": "code",
   "execution_count": 1,
   "metadata": {
    "collapsed": true
   },
   "outputs": [],
   "source": [
    "import numpy as np\n",
    "import matplotlib.pyplot as plt\n",
    "import random\n",
    "import time"
   ]
  },
  {
   "cell_type": "code",
   "execution_count": 2,
   "outputs": [
    {
     "ename": "ModuleNotFoundError",
     "evalue": "No module named 'genetic_algorithm'",
     "output_type": "error",
     "traceback": [
      "\u001B[1;31m---------------------------------------------------------------------------\u001B[0m",
      "\u001B[1;31mModuleNotFoundError\u001B[0m                       Traceback (most recent call last)",
      "Input \u001B[1;32mIn [2]\u001B[0m, in \u001B[0;36m<cell line: 1>\u001B[1;34m()\u001B[0m\n\u001B[1;32m----> 1\u001B[0m \u001B[38;5;28;01mfrom\u001B[39;00m \u001B[38;5;21;01mgenetic_algorithm\u001B[39;00m \u001B[38;5;28;01mimport\u001B[39;00m run\n",
      "\u001B[1;31mModuleNotFoundError\u001B[0m: No module named 'genetic_algorithm'"
     ]
    }
   ],
   "source": [
    "from genetic_algorithm import run"
   ],
   "metadata": {
    "collapsed": false,
    "pycharm": {
     "name": "#%%\n"
    }
   }
  },
  {
   "cell_type": "markdown",
   "source": [
    "**Select parameters:**"
   ],
   "metadata": {
    "collapsed": false
   }
  },
  {
   "cell_type": "code",
   "execution_count": 3,
   "outputs": [],
   "source": [
    "ITERATIONS = 20\n",
    "GENERATIONS = 4000"
   ],
   "metadata": {
    "collapsed": false,
    "pycharm": {
     "name": "#%%\n"
    }
   }
  },
  {
   "cell_type": "markdown",
   "source": [
    "**Nelder-Mead Algorithm**"
   ],
   "metadata": {
    "collapsed": false
   }
  },
  {
   "cell_type": "code",
   "execution_count": 4,
   "outputs": [],
   "source": [
    "def to_param(config):\n",
    "    return (\n",
    "        round(config[0]),\n",
    "        round(config[1]),\n",
    "        round(config[2]),\n",
    "        round(config[3]),\n",
    "        round(config[4]),\n",
    "        config[5],\n",
    "        config[6],\n",
    "        config[7],\n",
    "        config[8],\n",
    "        config[9])\n",
    "\n",
    "def random_config():\n",
    "    pop = random.randint(5, 20)\n",
    "    return np.array([pop,                           # population_size\n",
    "                     random.randint(2, pop),        # survivor_size\n",
    "                     GENERATIONS,                   # generations\n",
    "                     random.randint(0, 3),          # hidden_layers\n",
    "                     random.randint(5, 50),         # hidden_layer_width\n",
    "                     random.uniform(0.0, 1.0),      # mutation_rate_matrix\n",
    "                     random.uniform(0.0, 1.0),      # mutation_rate_bias\n",
    "                     random.uniform(0.0, 1.0),      # mutation_rate_activation_function\n",
    "                     random.uniform(0.0, 1.0),      # crossover_rate\n",
    "                     random.uniform(0.1, 2)])       # gaussian_noise_stdd\n",
    "\n",
    "def assert_bounds(config):\n",
    "    population = max(2, config[0])\n",
    "    survivors = max(2, min(population - 1, config[1]))\n",
    "    generations = config[2]\n",
    "    hidden_layers = max(0, config[3])\n",
    "    hidden_layer_width = max(1, config[4])\n",
    "    mutation_rate_matrix = max(0, min(1, config[5]))\n",
    "    mutation_rate_bias = max(0, min(1, config[6]))\n",
    "    mutation_rate_activation_function = max(0, min(1, config[7]))\n",
    "    crossover_rate = max(0, min(1, config[8]))\n",
    "    gaussian_noise_stdd = max(0, config[9])\n",
    "\n",
    "    return np.array([population,\n",
    "                     survivors,\n",
    "                     generations,\n",
    "                     hidden_layers,\n",
    "                     hidden_layer_width,\n",
    "                     mutation_rate_matrix,\n",
    "                     mutation_rate_bias,\n",
    "                     mutation_rate_activation_function,\n",
    "                     crossover_rate,\n",
    "                     gaussian_noise_stdd])\n",
    "\n",
    "def nelder_mead(iterations):\n",
    "    history_max = []    # max scores in each generation (for plot)\n",
    "    history_avg = []    # average scores in each generation (for plot)\n",
    "\n",
    "    configs = np.zeros((10, 9))\n",
    "    scores = np.zeros(9)\n",
    "\n",
    "    print(\"start\")\n",
    "\n",
    "    # Random initial vertices\n",
    "    for i in range(9):\n",
    "        try:\n",
    "            config = random_config()\n",
    "            score = run(*to_param(config))\n",
    "            print(\"run: \", i, \" random \", score, to_param(config))\n",
    "            configs[:, i] = config\n",
    "            scores[i] = score\n",
    "\n",
    "            # for plot\n",
    "            history_max.append(max(scores))\n",
    "            history_avg.append(np.mean(scores))\n",
    "        except ValueError as error:\n",
    "            print('VALUE_ERROR:', str(error))\n",
    "            print(to_param(config))\n",
    "\n",
    "    # Algorithm\n",
    "    for i in range(9, iterations + 9):\n",
    "        idx = scores.argsort()\n",
    "        worst_idx = idx[0]\n",
    "        worst_score = scores[worst_idx]\n",
    "        worst_config = configs[:, worst_idx]\n",
    "\n",
    "        centeroid = (np.sum(configs, axis=1) - worst_config) / 8\n",
    "        diff = centeroid - worst_config\n",
    "\n",
    "        try:\n",
    "            reflected_config = assert_bounds(centeroid + diff)\n",
    "            reflected_score = run(*to_param(reflected_config))\n",
    "        except ValueError as error:\n",
    "            print(str(error))\n",
    "            print(to_param(reflected_config))\n",
    "\n",
    "        #print(\"run: \", i, worst_idx)\n",
    "\n",
    "        if reflected_score > scores[idx[8]]:\n",
    "            #print(\"expand?\")\n",
    "            expanded_config = assert_bounds(centeroid + 2 * diff)\n",
    "            expanded_score = run(*to_param(expanded_config))\n",
    "            if expanded_score > reflected_score:\n",
    "                configs[:, worst_idx] = expanded_config\n",
    "                scores[worst_idx] = expanded_score\n",
    "                #print(\"expanded_step\", expanded_score, to_param(expanded_config))\n",
    "                print('run: {} {} - max: {} {}'.format(i, 'expansion', max(scores), to_param(expanded_config)))\n",
    "\n",
    "                # for plot\n",
    "                history_max.append(max(scores))\n",
    "                history_avg.append(np.mean(scores))\n",
    "                continue\n",
    "\n",
    "        if reflected_score > scores[idx[1]]:\n",
    "            configs[:, worst_idx] = reflected_config\n",
    "            scores[worst_idx] = reflected_score\n",
    "            #print(\"normal_step\", reflected_score, to_param(reflected_config))\n",
    "            print('run: {} {} - max: {} {}'.format(i, 'reflection', max(scores), to_param(reflected_config)))\n",
    "\n",
    "            # for plot\n",
    "            history_max.append(max(scores))\n",
    "            history_avg.append(np.mean(scores))\n",
    "            continue\n",
    "\n",
    "        if reflected_score > worst_score:\n",
    "            contracted_config = assert_bounds(centeroid + 0.5 * diff)\n",
    "            contracted_score = run(*to_param(contracted_config))\n",
    "            if contracted_score > reflected_score:\n",
    "                configs[:, worst_idx] = contracted_config\n",
    "                scores[worst_idx] = contracted_score\n",
    "                #print(\"contracted_step\", contracted_score, to_param(contracted_config))\n",
    "                print('run: {} {} - max: {} {}'.format(i, 'contraction', max(scores), to_param(contracted_config)))\n",
    "\n",
    "                # for plot\n",
    "                history_max.append(max(scores))\n",
    "                history_avg.append(np.mean(scores))\n",
    "                continue\n",
    "\n",
    "        intern_config = assert_bounds(centeroid + 0.7 * (worst_config - centeroid))\n",
    "        intern_score = run(*to_param(intern_config))\n",
    "\n",
    "        if intern_score > worst_score:\n",
    "            configs[:, worst_idx] = intern_config\n",
    "            scores[worst_idx] = intern_score\n",
    "            #print(\"intern_step\", intern_score, to_param(intern_config))\n",
    "            print('run: {} {} - max: {} {}'.format(i, 'internal', max(scores), to_param(intern_config)))\n",
    "\n",
    "            # for plot\n",
    "            history_max.append(max(scores))\n",
    "            history_avg.append(np.mean(scores))\n",
    "            continue\n",
    "\n",
    "        #print(\"shrink\")\n",
    "        best_config = np.copy(configs[:, idx[8]])\n",
    "\n",
    "        for j in range(0, 9):\n",
    "            configs[:, j] = 0.9 * (configs[:, j] - best_config) + best_config\n",
    "            scores[j] = run(*to_param(configs[:, j]))\n",
    "        print('run: {} {} - max: {} {}'.format(i, 'shrinkage', max(scores), to_param(best_config)))\n",
    "\n",
    "        # for plot\n",
    "        history_max.append(max(scores))\n",
    "        history_avg.append(np.mean(scores))\n",
    "\n",
    "\n",
    "    # Plot\n",
    "    plt.figure()\n",
    "    plt.plot(np.arange(len(history_max)), history_max, label='max fitness')\n",
    "    plt.plot(np.arange(len(history_avg)), history_avg, label='avg fitness', alpha=0.6)\n",
    "    plt.title('Nelder-mead algorithm')\n",
    "    plt.xlabel('Iterations')\n",
    "    plt.ylabel('Network accuracy')\n",
    "    plt.legend()\n",
    "    plt.show()\n",
    "\n",
    "    idx = scores.argsort()\n",
    "    best_index = idx[-1]\n",
    "    best_score = scores[best_index]\n",
    "    best_config = to_param(assert_bounds(configs[:, best_index]))\n",
    "    print('\\n\\nBest performing network:')\n",
    "    print('Accuracy: {}\\n'\n",
    "          'Hidden layers: {}\\n'\n",
    "          'Neurons per layer: {}\\n'\n",
    "          'Population size: {}\\n'\n",
    "          'Survivors: {}\\n'\n",
    "          'Mutation rate matrix: {}\\n'\n",
    "          'Mutation rate bias: {}\\n'\n",
    "          'Mutation rate activation function: {}\\n'\n",
    "          'Crossover rate: {}\\n'\n",
    "          'Gaussian noise stdd: {}\\n'.\n",
    "          format(best_score,\n",
    "                 best_config[3],\n",
    "                 best_config[4],\n",
    "                 best_config[0],\n",
    "                 best_config[1],\n",
    "                 best_config[5],\n",
    "                 best_config[6],\n",
    "                 best_config[7],\n",
    "                 best_config[8],\n",
    "                 best_config[9]))"
   ],
   "metadata": {
    "collapsed": false,
    "pycharm": {
     "name": "#%%\n"
    }
   }
  },
  {
   "cell_type": "markdown",
   "source": [
    "**Optimization**"
   ],
   "metadata": {
    "collapsed": false
   }
  },
  {
   "cell_type": "code",
   "execution_count": 5,
   "outputs": [
    {
     "name": "stdout",
     "output_type": "stream",
     "text": [
      "start\n",
      "run:  0  random  0.4792 (6, 3, 4000, 2, 28, 0.7135155390922217, 0.8898218328200824, 0.43653307175519784, 0.09594569562971, 0.35664930595425814)\n",
      "run:  1  random  0.3943 (9, 5, 4000, 2, 6, 0.8090190445777187, 0.9297542630631912, 0.04195647045138051, 0.38517287568090985, 1.948524724958945)\n",
      "run:  2  random  0.3266 (18, 18, 4000, 2, 23, 0.034414160513168035, 0.9800504279440665, 0.8685446103573202, 0.08380305350733097, 0.1750853528755696)\n",
      "run:  3  random  0.7212 (10, 8, 4000, 0, 19, 0.6319696406359923, 0.5229100083087885, 0.654293092183365, 0.4382481080469326, 1.4351585499720236)\n",
      "run:  4  random  0.6297 (7, 6, 4000, 0, 27, 0.33569529451952285, 0.8370755815257483, 0.46325499439060747, 0.2932386370134613, 0.9463729343213964)\n",
      "run:  5  random  0.5339 (5, 3, 4000, 1, 7, 0.09245990225369805, 0.76483746097201, 0.7033516794070642, 0.83485092506855, 0.4583998238154612)\n",
      "run:  6  random  0.7332 (8, 7, 4000, 0, 16, 0.4107863663052639, 0.9332264115555923, 0.020233018781777634, 0.7951527878889337, 1.28215751692238)\n",
      "run:  7  random  0.4589 (20, 15, 4000, 2, 32, 0.5287787201910821, 0.8632611551271004, 0.6042649060686075, 0.016542995717454545, 1.6267586387428734)\n",
      "run:  8  random  0.309 (18, 10, 4000, 2, 10, 0.20504086000339794, 0.8906666671510249, 0.7366200576647629, 0.593047079781774, 1.1401534682525136)\n",
      "run: 9 reflection - max: 0.743 (3, 2, 4000, 0, 30, 0.6841188070187689, 0.7895676181781198, 0.21148790318406718, 0.1426916898565468, 0.9171232436382131)\n",
      "run: 10 reflection - max: 0.743 (2, 2, 4000, 0, 18, 1.0, 0.6525631549435917, 0.0, 0.6666578752182937, 2.0677008317058183)\n",
      "run: 11 reflection - max: 0.743 (6, 5, 4000, 0, 38, 0.2903120229264188, 0.6335615427945673, 0.7313981959912912, 0.43565930292906074, 0.3240554863091616)\n",
      "run: 12 reflection - max: 0.743 (2, 2, 4000, 0, 14, 0.5109356729968895, 0.6426297476475248, 0.20087308285473504, 0.9090682596954176, 0.3201457844168052)\n",
      "run: 13 reflection - max: 0.743 (5, 4, 4000, 0, 14, 0.275553887571917, 0.5542710486614033, 0.30968991994302897, 1.0, 1.581129236821057)\n",
      "run: 14 reflection - max: 0.743 (9, 7, 4000, 0, 29, 0.41928830731100586, 0.7793734590874305, 0.5725541181155653, 0.2425565718100271, 1.932878621459573)\n",
      "run: 15 reflection - max: 0.743 (8, 7, 4000, 0, 41, 0.9194711793185242, 0.6607997452918007, 0.03737613124036132, 0.16870031812226405, 2.163244281471945)\n",
      "run: 16 reflection - max: 0.743 (7, 5, 4000, 0, 10, 0.8789088477438297, 0.7988852140935516, 0.0, 0.5011521940600541, 2.7573858177689408)\n",
      "run: 17 reflection - max: 0.743 (3, 2, 4000, 0, 15, 0.8648376984674488, 0.6579512365522188, 0.0, 0.7589038307415945, 1.354689481695871)\n",
      "run: 18 reflection - max: 0.743 (10, 8, 4000, 0, 25, 0.2503354303953167, 0.7861085610982141, 0.4240837649308019, 0.35786401621415287, 1.0416144339471387)\n",
      "run: 19 contraction - max: 0.743 (6, 5, 4000, 0, 18, 0.7538989510134375, 0.6509096799383177, 0.07909072097908412, 0.6338893586677341, 1.8766577632588461)\n",
      "run: 20 internal - max: 0.743 (9, 7, 4000, 0, 23, 0.37846775295454105, 0.7590955288654921, 0.3460650399382495, 0.41695749712680924, 1.230413074696095)\n",
      "run: 21 internal - max: 0.7685 (7, 6, 4000, 0, 34, 0.8265751487121369, 0.6750654496850161, 0.0869455304311119, 0.29385255267515753, 1.980572797709365)\n",
      "run: 22 internal - max: 0.7685 (6, 5, 4000, 0, 19, 0.7133999463122774, 0.6690482453030793, 0.1164402986026689, 0.606733500832265, 1.7838590487520902)\n",
      "run: 23 reflection - max: 0.7685 (6, 5, 4000, 0, 21, 0.524404591040197, 0.7536948836719666, 0.29073832751273115, 0.48000616426674236, 1.3507983810538964)\n",
      "run: 24 reflection - max: 0.7685 (3, 2, 4000, 0, 16, 0.8958209939193473, 0.6622974388111722, 0.047281908070770984, 0.6855443347571812, 1.9343406816993416)\n",
      "run: 25 reflection - max: 0.7685 (5, 4, 4000, 0, 31, 0.39960793567393826, 0.5883608097625177, 0.4051674250267132, 0.6474476729982181, 0.20160665460909666)\n",
      "run: 26 internal - max: 0.7685 (5, 4, 4000, 0, 17, 0.38931726561683294, 0.5973550036826845, 0.2811384641547654, 0.859069267796174, 1.498907239798497)\n",
      "run: 27 reflection - max: 0.7685 (9, 7, 4000, 0, 31, 0.3258124887631706, 0.7226681693617457, 0.4993214173363256, 0.32659931382987706, 1.2954767846548323)\n",
      "run: 28 shrinkage - max: 0.7824 (7, 6, 4000, 0, 34, 0.8265751487121369, 0.6750654496850161, 0.0869455304311119, 0.29385255267515753, 1.980572797709365)\n"
     ]
    },
    {
     "data": {
      "text/plain": "<Figure size 432x288 with 1 Axes>",
      "image/png": "[encoded data removed]"
     },
     "metadata": {
      "needs_background": "light"
     },
     "output_type": "display_data"
    },
    {
     "name": "stdout",
     "output_type": "stream",
     "text": [
      "\n",
      "\n",
      "Best performing network:\n",
      "Accuracy: 0.7824\n",
      "Hidden layers: 0\n",
      "Neurons per layer: 34\n",
      "Population size: 7\n",
      "Survivors: 6\n",
      "Mutation rate matrix: 0.8265751487121369\n",
      "Mutation rate bias: 0.6750654496850161\n",
      "Mutation rate activation function: 0.0869455304311119\n",
      "Crossover rate: 0.29385255267515753\n",
      "Gaussian noise stdd: 1.980572797709365\n",
      "\n",
      "CPU times: total: 2h 30min 38s\n",
      "Wall time: 2h 29min 55s\n"
     ]
    }
   ],
   "source": [
    "%%time\n",
    "nelder_mead(ITERATIONS)"
   ],
   "metadata": {
    "collapsed": false,
    "pycharm": {
     "name": "#%%\n"
    }
   }
  }
 ],
 "metadata": {
  "kernelspec": {
   "display_name": "Python 3",
   "language": "python",
   "name": "python3"
  },
  "language_info": {
   "codemirror_mode": {
    "name": "ipython",
    "version": 2
   },
   "file_extension": ".py",
   "mimetype": "text/x-python",
   "name": "python",
   "nbconvert_exporter": "python",
   "pygments_lexer": "ipython2",
   "version": "2.7.6"
  }
 },
 "nbformat": 4,
 "nbformat_minor": 0
}