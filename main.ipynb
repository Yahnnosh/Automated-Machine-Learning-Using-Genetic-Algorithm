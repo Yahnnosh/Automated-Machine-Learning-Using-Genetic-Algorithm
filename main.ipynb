{
 "cells": [
  {
   "cell_type": "code",
   "execution_count": 1,
   "metadata": {
    "collapsed": true
   },
   "outputs": [],
   "source": [
    "import numpy as np\n",
    "import matplotlib.pyplot as plt\n",
    "import random"
   ]
  },
  {
   "cell_type": "code",
   "execution_count": 3,
   "outputs": [
    {
     "name": "stdout",
     "output_type": "stream",
     "text": [
      "Num GPUs Available:  1\n"
     ]
    }
   ],
   "source": [
    "from genetic_algorithm import run"
   ],
   "metadata": {
    "collapsed": false,
    "pycharm": {
     "name": "#%%\n"
    }
   }
  },
  {
   "cell_type": "markdown",
   "source": [
    "**Select parameters:**"
   ],
   "metadata": {
    "collapsed": false
   }
  },
  {
   "cell_type": "markdown",
   "source": [
    "Nelder-Mead"
   ],
   "metadata": {
    "collapsed": false
   }
  },
  {
   "cell_type": "code",
   "source": [
    "ITERATIONS = 20\n",
    "GENERATIONS = 100"
   ],
   "metadata": {
    "collapsed": false,
    "pycharm": {
     "name": "#%%\n"
    }
   },
   "execution_count": 394,
   "outputs": []
  },
  {
   "cell_type": "markdown",
   "source": [
    "Network"
   ],
   "metadata": {
    "collapsed": false
   }
  },
  {
   "cell_type": "code",
   "execution_count": 395,
   "outputs": [],
   "source": [
    "CONV_LAYERS = 1\n",
    "HIDDEN_LAYERS = 0"
   ],
   "metadata": {
    "collapsed": false,
    "pycharm": {
     "name": "#%%\n"
    }
   }
  },
  {
   "cell_type": "markdown",
   "source": [
    "Constraints"
   ],
   "metadata": {
    "collapsed": false
   }
  },
  {
   "cell_type": "code",
   "execution_count": 396,
   "outputs": [],
   "source": [
    "MIN_POPULATION_SIZE = 2\n",
    "MAX_POPULATION_SIZE = 100\n",
    "MAX_HIDDEN_LAYER_WIDTH = 128\n",
    "MAX_FILTERS = 64\n",
    "MAX_FILTER_SIZE = 5\n",
    "MAX_STRIDES = 2\n",
    "MAX_GAUSSIAN_NOISE = 5.0\n",
    "MIN_GAUSSIAN_NOISE = 0.01"
   ],
   "metadata": {
    "collapsed": false,
    "pycharm": {
     "name": "#%%\n"
    }
   }
  },
  {
   "cell_type": "markdown",
   "source": [
    "**Nelder-Mead Algorithm**"
   ],
   "metadata": {
    "collapsed": false,
    "pycharm": {
     "name": "#%% md\n"
    }
   }
  },
  {
   "cell_type": "code",
   "source": [
    "def to_param(config) -> list:\n",
    "    \"\"\"\n",
    "    Returns parameters usable by GA algorithm\n",
    "    :param config: parameter dictionary\n",
    "    :return: feasible (projected) parameter array, usable by GA algorithm\n",
    "    \"\"\"\n",
    "    params = project(config)\n",
    "    filter_size, n_filters = params.pop('filter_size'), params.pop('n_filters')\n",
    "    params['conv_filter_shape'] = [(filter_size[layer], filter_size[layer], n_filters[layer]) for layer in range(CONV_LAYERS)]\n",
    "\n",
    "    return params\n",
    "\n",
    "def random_config():\n",
    "    \"\"\"\n",
    "    Random parameters for one GA algorithm\n",
    "    :return: random parameters\n",
    "    \"\"\"\n",
    "    population_size = random.randint(MIN_POPULATION_SIZE, MAX_POPULATION_SIZE)\n",
    "    hidden_layer_width = [random.randint(1, MAX_HIDDEN_LAYER_WIDTH) for _ in range(HIDDEN_LAYERS)] if HIDDEN_LAYERS != 0 else [0]\n",
    "    filter_size = [random.uniform(2, MAX_FILTER_SIZE) for _ in range(CONV_LAYERS)] if CONV_LAYERS != 0 else [0]\n",
    "    n_filters = [random.uniform(1, MAX_FILTERS) for _ in range(CONV_LAYERS)] if CONV_LAYERS != 0 else [0]\n",
    "    filter_strides = [random.uniform(1.0, MAX_STRIDES) for _ in range(CONV_LAYERS)] if CONV_LAYERS != 0 else [0]\n",
    "    pooling_strides = [random.uniform(0, MAX_STRIDES) for _ in range(CONV_LAYERS)] if CONV_LAYERS != 0 else [0]\n",
    "\n",
    "    return {\n",
    "        'population_size': population_size,\n",
    "        'survivor_size': random.randint(2, population_size),\n",
    "        'generations': GENERATIONS,\n",
    "        'hidden_layers': HIDDEN_LAYERS,\n",
    "        'hidden_layer_width': hidden_layer_width,\n",
    "        'mutation_rate_matrix': random.uniform(0.0, 1.0),\n",
    "        'mutation_rate_bias': random.uniform(0.0, 1.0),\n",
    "        'mutation_rate_activation_function': random.uniform(0.0, 1.0),\n",
    "        'mutation_rate_kernel': random.uniform(0.0, 1.0),\n",
    "        'crossover_rate': random.uniform(0.0, 1.0),\n",
    "        'gaussian_noise_stdd': random.uniform(MIN_GAUSSIAN_NOISE, MAX_GAUSSIAN_NOISE),\n",
    "        'filter_size': filter_size,\n",
    "        'n_filters': n_filters,\n",
    "        'filter_strides': filter_strides,\n",
    "        'pooling_strides': pooling_strides\n",
    "    }\n",
    "\n",
    "def project(config):\n",
    "    \"\"\"\n",
    "    Projects parameters to feasible region\n",
    "    :param config: parameters\n",
    "    :return: feasible (projected) parameters\n",
    "    \"\"\"\n",
    "    if type(config) != dict:\n",
    "        config = to_dict(config)\n",
    "\n",
    "    # round parameters where needed\n",
    "    config = {'population_size': round(config['population_size']),\n",
    "              'survivor_size': round(config['survivor_size']),\n",
    "              'generations': GENERATIONS,\n",
    "              'hidden_layers': HIDDEN_LAYERS,\n",
    "              'hidden_layer_width': [round(layer_width) for layer_width in config['hidden_layer_width']],\n",
    "              'mutation_rate_matrix': config['mutation_rate_matrix'],\n",
    "              'mutation_rate_bias': config['mutation_rate_bias'],\n",
    "              'mutation_rate_activation_function': config['mutation_rate_activation_function'],\n",
    "              'mutation_rate_kernel': config['mutation_rate_kernel'], 'crossover_rate': config['crossover_rate'],\n",
    "              'gaussian_noise_stdd': config['gaussian_noise_stdd'],\n",
    "              'filter_size': [round(filter_s) for filter_s in config['filter_size']],\n",
    "              'n_filters': [round(n_filter) for n_filter in config['n_filters']],\n",
    "              'filter_strides': [round(stride) for stride in config['filter_strides']],\n",
    "              'pooling_strides': [round(stride) for stride in config['pooling_strides']]}\n",
    "\n",
    "    # project parameters to feasible region\n",
    "    config = {'population_size': max(MIN_POPULATION_SIZE, min(MAX_POPULATION_SIZE, config['population_size'])),\n",
    "              'survivor_size': max(2, min(config['population_size'], config['survivor_size'])),\n",
    "              'generations': config['generations'],\n",
    "              'hidden_layers': config['hidden_layers'],\n",
    "              'hidden_layer_width': [max(1, min(MAX_HIDDEN_LAYER_WIDTH, layer_width)) for layer_width in config['hidden_layer_width']],\n",
    "              'mutation_rate_matrix': max(0.0, min(1.0, config['mutation_rate_matrix'])),\n",
    "              'mutation_rate_bias': max(0.0, min(1.0, config['mutation_rate_bias'])),\n",
    "              'mutation_rate_activation_function': max(0.0, min(1.0, config['mutation_rate_activation_function'])),\n",
    "              'mutation_rate_kernel': max(0.0, min(1.0, config['mutation_rate_kernel'])),\n",
    "              'crossover_rate': max(0.0, min(1.0, config['crossover_rate'])),\n",
    "              'gaussian_noise_stdd': max(MIN_GAUSSIAN_NOISE, min(MAX_GAUSSIAN_NOISE, config['gaussian_noise_stdd'])),\n",
    "              'filter_size': [max(2, min(MAX_FILTER_SIZE, filter_s)) for filter_s in config['filter_size']],\n",
    "              'n_filters': [max(1, min(MAX_FILTERS, n_filter)) for n_filter in config['n_filters']],\n",
    "              'filter_strides': [max(0, min(MAX_STRIDES, stride)) for stride in config['filter_strides']],\n",
    "              'pooling_strides': [max(0, min(MAX_STRIDES, stride)) for stride in config['pooling_strides']]}\n",
    "\n",
    "    return config\n",
    "\n",
    "def to_array(dictionary):\n",
    "    if type(dictionary) == list:\n",
    "        return dictionary\n",
    "\n",
    "    array = []\n",
    "    for key, value in dictionary.items():\n",
    "        if type(value) == list:\n",
    "            for val in value:\n",
    "                array.append(val)\n",
    "        else:\n",
    "            array.append(value)\n",
    "    return np.array(array)\n",
    "\n",
    "\n",
    "def to_dict(array):\n",
    "    if type(array) == dict:\n",
    "        return array\n",
    "\n",
    "    return {\n",
    "        'population_size': array[0],\n",
    "        'survivor_size': array[1],\n",
    "        'generations': array[2],\n",
    "        'hidden_layers': array[3],\n",
    "        'hidden_layer_width': [array[4 + i] for i in range(max(1, HIDDEN_LAYERS))],\n",
    "        'mutation_rate_matrix': array[4 + max(1, HIDDEN_LAYERS)],\n",
    "        'mutation_rate_bias': array[5 + max(1, HIDDEN_LAYERS)],\n",
    "        'mutation_rate_activation_function': array[6 + max(1, HIDDEN_LAYERS)],\n",
    "        'mutation_rate_kernel': array[7 + max(1, HIDDEN_LAYERS)],\n",
    "        'crossover_rate': array[8 + max(1, HIDDEN_LAYERS)],\n",
    "        'gaussian_noise_stdd': array[9 + max(1, HIDDEN_LAYERS)],\n",
    "        'filter_size': [array[10 + max(1, HIDDEN_LAYERS)] for i in range(max(1, CONV_LAYERS))],\n",
    "        'n_filters': [array[10 + max(1, HIDDEN_LAYERS) + max(1, CONV_LAYERS)] for i in range(max(1, CONV_LAYERS))],\n",
    "        'filter_strides': [array[10 + max(1, HIDDEN_LAYERS) + 2 * max(1, CONV_LAYERS)] for i in range(max(1, CONV_LAYERS))],\n",
    "        'pooling_strides': [array[10 + max(1, HIDDEN_LAYERS) + 3 * max(1, CONV_LAYERS)] for i in range(max(1, CONV_LAYERS))]\n",
    "    }\n",
    "\n",
    "def nelder_mead(iterations):\n",
    "    \"\"\"\n",
    "    Projected Nelder-Mead algorithm\n",
    "    :param iterations: iterations of Nelder-Mead algorithm\n",
    "    \"\"\"\n",
    "    # store data\n",
    "    history_max = []    # max scores in each generation (for plot)\n",
    "    history_avg = []    # average scores in each generation (for plot)\n",
    "\n",
    "    configs = []    # parameter config for each vertex (list of dict)\n",
    "    scores = []     # score for each vertex\n",
    "    n_params = 14\n",
    "\n",
    "    print(\"start\")\n",
    "\n",
    "    # random initial vertices\n",
    "    for vertex in range(n_params + 1):\n",
    "        # random parameters\n",
    "        config = random_config()\n",
    "        score = run(**to_param(config))\n",
    "\n",
    "        print(\"\\nrun: \", vertex, \" random \", score, to_param(config))\n",
    "        configs.append(config)\n",
    "        scores.append(score)\n",
    "\n",
    "        # for plot\n",
    "        history_max.append(max(scores))\n",
    "        history_avg.append(np.mean(scores))\n",
    "\n",
    "    # algorithm\n",
    "    for iteration in range(n_params + 2, ITERATIONS + n_params + 2):\n",
    "        action = None\n",
    "\n",
    "        # sort (ascending)\n",
    "        zipped = sorted(zip(scores, configs), key=lambda x: x[0])\n",
    "        scores, configs = [value[0] for value in zipped], [value[1] for value in zipped]\n",
    "\n",
    "        # centroid\n",
    "        worst_config = to_array(configs[0])\n",
    "        centroid = (np.sum(np.array([to_array(config) for config in configs]), axis=1) - worst_config) / n_params\n",
    "        diff = centroid - worst_config\n",
    "\n",
    "        # calculate reflection\n",
    "        reflected_config = project(centroid + diff)\n",
    "        #print(reflected_config)\n",
    "        reflected_score = run(**to_param(reflected_config))\n",
    "\n",
    "        if scores[1] < reflected_score <= scores[-1]:\n",
    "            configs[0] = reflected_config\n",
    "            scores[0] = reflected_score\n",
    "            action = 'reflection'\n",
    "        elif reflected_score > scores[-1]:\n",
    "            expanded_config = project(centroid + 2 * diff)\n",
    "            #print(expanded_config)\n",
    "            expanded_score = run(**to_param(expanded_config))\n",
    "            if expanded_score > reflected_score:\n",
    "                configs[0] = expanded_config\n",
    "                scores[0] = expanded_score\n",
    "                action = 'expansion'\n",
    "            else:\n",
    "                configs[0] = reflected_config\n",
    "                scores[0] = reflected_score\n",
    "                action = 'reflection'\n",
    "        else:\n",
    "            if reflected_score > scores[0]:\n",
    "                intern_config = project(centroid + 0.7 * (to_array(reflected_config) - centroid))\n",
    "                #print(intern_config)\n",
    "                intern_score = run(**to_param(intern_config))\n",
    "                if intern_score > reflected_score:\n",
    "                    configs[0] = intern_config\n",
    "                    scores[0] = intern_score\n",
    "                    action = 'contraction'\n",
    "                else:\n",
    "                    print('shrinking...')\n",
    "                    for config_idx in range(len(configs) - 1):\n",
    "                        configs[config_idx] = to_dict(0.9 * (to_array(configs[config_idx]) - to_array(configs[-1])) + to_array(configs[-1]))\n",
    "                        #print(configs[config_idx])\n",
    "                        scores[config_idx] = run(**to_param(configs[config_idx]))\n",
    "                        action = 'shrinking'\n",
    "            else:\n",
    "                intern_config = project(centroid + 0.7 * (worst_config - centroid))\n",
    "                #print(intern_config)\n",
    "                intern_score = run(**to_param(intern_config))\n",
    "                if intern_score > scores[0]:\n",
    "                    configs[0] = intern_config\n",
    "                    scores[0] = intern_score\n",
    "                    action = 'contraction'\n",
    "                else:\n",
    "                    print('shrinking...')\n",
    "                    for config_idx in range(len(configs) - 1):\n",
    "                        configs[config_idx] = to_dict(0.9 * (to_array(configs[config_idx]) - to_array(configs[-1])) + to_array(configs[-1]))\n",
    "                        #print(configs[config_idx])\n",
    "                        scores[config_idx] = run(**to_param(configs[config_idx]))\n",
    "                        action = 'shrinking'\n",
    "\n",
    "        print('score vertices:', scores)\n",
    "        print('\\nrun: {} {} - max: {} {}'.format(iteration, action, max(scores), to_param(reflected_config)))\n",
    "        history_max.append(max(scores))\n",
    "        history_avg.append(np.mean(scores))\n",
    "\n",
    "    # Plot\n",
    "    plt.figure()\n",
    "    plt.plot(np.arange(len(history_max)), history_max, label='max fitness')\n",
    "    plt.plot(np.arange(len(history_avg)), history_avg, label='avg fitness', alpha=0.6)\n",
    "    plt.title('Nelder-mead algorithm')\n",
    "    plt.xlabel('Iterations')\n",
    "    plt.ylabel('Network accuracy')\n",
    "    plt.legend()\n",
    "    plt.show()\n",
    "\n",
    "    # sort (ascending)\n",
    "    zipped = sorted(zip(scores, configs), key=lambda x: x[0])\n",
    "    scores, configs = [value[0] for value in zipped], [value[1] for value in zipped]\n",
    "    print('\\n\\nBest performing network:')\n",
    "    for key, value in project(configs[-1]).items():\n",
    "        print('{}: {}'.format(key, value))\n",
    "    print('\\n')"
   ],
   "metadata": {
    "collapsed": false,
    "pycharm": {
     "name": "#%%\n"
    }
   },
   "execution_count": 397,
   "outputs": []
  },
  {
   "cell_type": "markdown",
   "source": [
    "**Optimization**"
   ],
   "metadata": {
    "collapsed": false,
    "pycharm": {
     "name": "#%% md\n"
    }
   }
  },
  {
   "cell_type": "code",
   "execution_count": 398,
   "outputs": [
    {
     "name": "stdout",
     "output_type": "stream",
     "text": [
      "start\n",
      "\n",
      "run:  0  random  0.4897 {'population_size': 60, 'survivor_size': 2, 'generations': 100, 'hidden_layers': 0, 'hidden_layer_width': [1], 'mutation_rate_matrix': 0.7818448562112049, 'mutation_rate_bias': 0.32913028295744495, 'mutation_rate_activation_function': 0.5120253187535476, 'mutation_rate_kernel': 0.37450356230730386, 'crossover_rate': 0.9781960437734348, 'gaussian_noise_stdd': 3.102829293503173, 'filter_strides': [1], 'pooling_strides': [2], 'conv_filter_shape': [(4, 4, 24)]}\n",
      "\n",
      "run:  1  random  0.3382 {'population_size': 6, 'survivor_size': 2, 'generations': 100, 'hidden_layers': 0, 'hidden_layer_width': [1], 'mutation_rate_matrix': 0.49585900367921865, 'mutation_rate_bias': 0.9596323098722854, 'mutation_rate_activation_function': 0.40627789879428855, 'mutation_rate_kernel': 0.5188268651484494, 'crossover_rate': 0.13674294183607405, 'gaussian_noise_stdd': 4.798068600604294, 'filter_strides': [1], 'pooling_strides': [2], 'conv_filter_shape': [(4, 4, 31)]}\n",
      "\n",
      "run:  2  random  0.3584 {'population_size': 27, 'survivor_size': 19, 'generations': 100, 'hidden_layers': 0, 'hidden_layer_width': [1], 'mutation_rate_matrix': 0.9026770124751134, 'mutation_rate_bias': 0.6573881575044708, 'mutation_rate_activation_function': 0.018904770932962944, 'mutation_rate_kernel': 0.6635846506363228, 'crossover_rate': 0.8867926752707737, 'gaussian_noise_stdd': 2.823426658711251, 'filter_strides': [1], 'pooling_strides': [0], 'conv_filter_shape': [(4, 4, 9)]}\n",
      "\n",
      "run:  3  random  0.4534 {'population_size': 23, 'survivor_size': 2, 'generations': 100, 'hidden_layers': 0, 'hidden_layer_width': [1], 'mutation_rate_matrix': 0.6708079050155537, 'mutation_rate_bias': 0.6638487337637275, 'mutation_rate_activation_function': 0.2658259380236503, 'mutation_rate_kernel': 0.7355260584554263, 'crossover_rate': 0.6373471018538053, 'gaussian_noise_stdd': 4.04855654855888, 'filter_strides': [1], 'pooling_strides': [1], 'conv_filter_shape': [(4, 4, 51)]}\n",
      "\n",
      "run:  4  random  0.3967 {'population_size': 33, 'survivor_size': 8, 'generations': 100, 'hidden_layers': 0, 'hidden_layer_width': [1], 'mutation_rate_matrix': 0.1266509039734086, 'mutation_rate_bias': 0.7235734001420195, 'mutation_rate_activation_function': 0.20393527017866908, 'mutation_rate_kernel': 0.1743541457656148, 'crossover_rate': 0.08552164701883902, 'gaussian_noise_stdd': 0.8398774059370943, 'filter_strides': [2], 'pooling_strides': [2], 'conv_filter_shape': [(5, 5, 44)]}\n",
      "\n",
      "run:  5  random  0.3337 {'population_size': 5, 'survivor_size': 2, 'generations': 100, 'hidden_layers': 0, 'hidden_layer_width': [1], 'mutation_rate_matrix': 0.3038714120909941, 'mutation_rate_bias': 0.35391302798044044, 'mutation_rate_activation_function': 0.2560477669598892, 'mutation_rate_kernel': 0.5686830609368286, 'crossover_rate': 0.6233932854296826, 'gaussian_noise_stdd': 4.597491129831954, 'filter_strides': [2], 'pooling_strides': [2], 'conv_filter_shape': [(5, 5, 48)]}\n",
      "\n",
      "run:  6  random  0.3603 {'population_size': 39, 'survivor_size': 28, 'generations': 100, 'hidden_layers': 0, 'hidden_layer_width': [1], 'mutation_rate_matrix': 0.7511007716393959, 'mutation_rate_bias': 0.6958342043308158, 'mutation_rate_activation_function': 0.7896989408773635, 'mutation_rate_kernel': 0.7352661391435455, 'crossover_rate': 0.10696888202860289, 'gaussian_noise_stdd': 0.34756153034302295, 'filter_strides': [1], 'pooling_strides': [1], 'conv_filter_shape': [(4, 4, 63)]}\n",
      "\n",
      "run:  7  random  0.4613 {'population_size': 20, 'survivor_size': 4, 'generations': 100, 'hidden_layers': 0, 'hidden_layer_width': [1], 'mutation_rate_matrix': 0.9399539254055393, 'mutation_rate_bias': 0.3259845064736432, 'mutation_rate_activation_function': 0.49869230619198257, 'mutation_rate_kernel': 0.8563508269824316, 'crossover_rate': 0.4831464325001281, 'gaussian_noise_stdd': 3.8693429467406606, 'filter_strides': [2], 'pooling_strides': [0], 'conv_filter_shape': [(2, 2, 16)]}\n",
      "\n",
      "run:  8  random  0.4044 {'population_size': 36, 'survivor_size': 12, 'generations': 100, 'hidden_layers': 0, 'hidden_layer_width': [1], 'mutation_rate_matrix': 0.6442235771076408, 'mutation_rate_bias': 0.25016440217608493, 'mutation_rate_activation_function': 0.1819489579020105, 'mutation_rate_kernel': 0.016112601493917134, 'crossover_rate': 0.10766452137021132, 'gaussian_noise_stdd': 2.4167127029145514, 'filter_strides': [1], 'pooling_strides': [2], 'conv_filter_shape': [(4, 4, 5)]}\n",
      "\n",
      "run:  9  random  0.462 {'population_size': 21, 'survivor_size': 3, 'generations': 100, 'hidden_layers': 0, 'hidden_layer_width': [1], 'mutation_rate_matrix': 0.9836032856777892, 'mutation_rate_bias': 0.8239358501565796, 'mutation_rate_activation_function': 0.001311898240070608, 'mutation_rate_kernel': 0.961548372318964, 'crossover_rate': 0.06214612131686992, 'gaussian_noise_stdd': 4.546558842446784, 'filter_strides': [1], 'pooling_strides': [2], 'conv_filter_shape': [(3, 3, 50)]}\n",
      "\n",
      "run:  10  random  0.3762 {'population_size': 99, 'survivor_size': 70, 'generations': 100, 'hidden_layers': 0, 'hidden_layer_width': [1], 'mutation_rate_matrix': 0.1564503743435306, 'mutation_rate_bias': 0.6004850628529299, 'mutation_rate_activation_function': 0.8669320482137153, 'mutation_rate_kernel': 0.13836949727569503, 'crossover_rate': 0.361700931227398, 'gaussian_noise_stdd': 2.0761470670767648, 'filter_strides': [1], 'pooling_strides': [1], 'conv_filter_shape': [(3, 3, 46)]}\n",
      "\n",
      "run:  11  random  0.37 {'population_size': 62, 'survivor_size': 43, 'generations': 100, 'hidden_layers': 0, 'hidden_layer_width': [1], 'mutation_rate_matrix': 0.37993525164667497, 'mutation_rate_bias': 0.020350047454177234, 'mutation_rate_activation_function': 0.520519958311141, 'mutation_rate_kernel': 0.8077359670070191, 'crossover_rate': 0.31445980967108433, 'gaussian_noise_stdd': 1.000547835470653, 'filter_strides': [1], 'pooling_strides': [1], 'conv_filter_shape': [(5, 5, 7)]}\n",
      "\n",
      "run:  12  random  0.3796 {'population_size': 47, 'survivor_size': 26, 'generations': 100, 'hidden_layers': 0, 'hidden_layer_width': [1], 'mutation_rate_matrix': 0.612972519169775, 'mutation_rate_bias': 0.47752143549483594, 'mutation_rate_activation_function': 0.3335228900307611, 'mutation_rate_kernel': 0.554178750288316, 'crossover_rate': 0.29345384261885743, 'gaussian_noise_stdd': 2.13648856260155, 'filter_strides': [1], 'pooling_strides': [0], 'conv_filter_shape': [(3, 3, 18)]}\n",
      "\n",
      "run:  13  random  0.3666 {'population_size': 39, 'survivor_size': 18, 'generations': 100, 'hidden_layers': 0, 'hidden_layer_width': [1], 'mutation_rate_matrix': 0.302088924217344, 'mutation_rate_bias': 0.9732143071960816, 'mutation_rate_activation_function': 0.7355875426300986, 'mutation_rate_kernel': 0.9392565742607447, 'crossover_rate': 0.95627414392875, 'gaussian_noise_stdd': 2.859074722372755, 'filter_strides': [2], 'pooling_strides': [1], 'conv_filter_shape': [(3, 3, 12)]}\n",
      "\n",
      "run:  14  random  0.3655 {'population_size': 31, 'survivor_size': 15, 'generations': 100, 'hidden_layers': 0, 'hidden_layer_width': [1], 'mutation_rate_matrix': 0.790106470927343, 'mutation_rate_bias': 0.24206226908802708, 'mutation_rate_activation_function': 0.3280362962180431, 'mutation_rate_kernel': 0.07301372398506267, 'crossover_rate': 0.6811489046832068, 'gaussian_noise_stdd': 1.6899671505167484, 'filter_strides': [1], 'pooling_strides': [0], 'conv_filter_shape': [(4, 4, 19)]}\n",
      "[0.4164, 0.3382, 0.3584, 0.3603, 0.3655, 0.3666, 0.37, 0.3762, 0.3796, 0.3967, 0.4044, 0.4534, 0.4613, 0.462, 0.4897]\n",
      "\n",
      "run: 16 contraction - max: 0.4897 {'population_size': 18, 'survivor_size': 18, 'generations': 100, 'hidden_layers': 0, 'hidden_layer_width': [25], 'mutation_rate_matrix': 1.0, 'mutation_rate_bias': 1.0, 'mutation_rate_activation_function': 1.0, 'mutation_rate_kernel': 1.0, 'crossover_rate': 1.0, 'gaussian_noise_stdd': 5.0, 'filter_strides': [2], 'pooling_strides': [2], 'conv_filter_shape': [(5, 5, 1)]}\n",
      "shrinking...\n",
      "[0.4179, 0.308, 0.4091, 0.4619, 0.3298, 0.3891, 0.3998, 0.3363, 0.3848, 0.3921, 0.3916, 0.4593, 0.4882, 0.4223, 0.4897]\n",
      "\n",
      "run: 17 shrinking - max: 0.4897 {'population_size': 15, 'survivor_size': 15, 'generations': 100, 'hidden_layers': 0, 'hidden_layer_width': [26], 'mutation_rate_matrix': 1.0, 'mutation_rate_bias': 1.0, 'mutation_rate_activation_function': 1.0, 'mutation_rate_kernel': 1.0, 'crossover_rate': 1.0, 'gaussian_noise_stdd': 5.0, 'filter_strides': [2], 'pooling_strides': [2], 'conv_filter_shape': [(5, 5, 1)]}\n",
      "[0.3537, 0.3298, 0.3363, 0.3848, 0.3891, 0.3916, 0.3921, 0.3998, 0.4091, 0.4179, 0.4223, 0.4593, 0.4619, 0.4882, 0.4897]\n",
      "\n",
      "run: 18 contraction - max: 0.4897 {'population_size': 2, 'survivor_size': 2, 'generations': 100, 'hidden_layers': 0, 'hidden_layer_width': [31], 'mutation_rate_matrix': 1.0, 'mutation_rate_bias': 1.0, 'mutation_rate_activation_function': 1.0, 'mutation_rate_kernel': 1.0, 'crossover_rate': 1.0, 'gaussian_noise_stdd': 5.0, 'filter_strides': [2], 'pooling_strides': [2], 'conv_filter_shape': [(5, 5, 14)]}\n",
      "[0.3644, 0.3363, 0.3537, 0.3848, 0.3891, 0.3916, 0.3921, 0.3998, 0.4091, 0.4179, 0.4223, 0.4593, 0.4619, 0.4882, 0.4897]\n",
      "\n",
      "run: 19 contraction - max: 0.4897 {'population_size': 2, 'survivor_size': 2, 'generations': 100, 'hidden_layers': 0, 'hidden_layer_width': [31], 'mutation_rate_matrix': 1.0, 'mutation_rate_bias': 1.0, 'mutation_rate_activation_function': 1.0, 'mutation_rate_kernel': 1.0, 'crossover_rate': 1.0, 'gaussian_noise_stdd': 5.0, 'filter_strides': [2], 'pooling_strides': [2], 'conv_filter_shape': [(5, 5, 10)]}\n",
      "[0.3836, 0.3537, 0.3644, 0.3848, 0.3891, 0.3916, 0.3921, 0.3998, 0.4091, 0.4179, 0.4223, 0.4593, 0.4619, 0.4882, 0.4897]\n",
      "\n",
      "run: 20 contraction - max: 0.4897 {'population_size': 2, 'survivor_size': 2, 'generations': 100, 'hidden_layers': 0, 'hidden_layer_width': [31], 'mutation_rate_matrix': 1.0, 'mutation_rate_bias': 1.0, 'mutation_rate_activation_function': 1.0, 'mutation_rate_kernel': 1.0, 'crossover_rate': 1.0, 'gaussian_noise_stdd': 5.0, 'filter_strides': [2], 'pooling_strides': [2], 'conv_filter_shape': [(5, 5, 4)]}\n",
      "shrinking...\n",
      "[0.317, 0.3498, 0.3382, 0.4236, 0.3844, 0.3814, 0.4949, 0.4282, 0.3406, 0.4845, 0.4987, 0.5155, 0.4577, 0.4429, 0.4897]\n",
      "\n",
      "run: 21 shrinking - max: 0.5155 {'population_size': 2, 'survivor_size': 2, 'generations': 100, 'hidden_layers': 0, 'hidden_layer_width': [26], 'mutation_rate_matrix': 1.0, 'mutation_rate_bias': 1.0, 'mutation_rate_activation_function': 1.0, 'mutation_rate_kernel': 1.0, 'crossover_rate': 1.0, 'gaussian_noise_stdd': 5.0, 'filter_strides': [2], 'pooling_strides': [2], 'conv_filter_shape': [(5, 5, 13)]}\n",
      "[0.4152, 0.3382, 0.3406, 0.3498, 0.3814, 0.3844, 0.4236, 0.4282, 0.4429, 0.4577, 0.4845, 0.4897, 0.4949, 0.4987, 0.5155]\n",
      "\n",
      "run: 22 contraction - max: 0.5155 {'population_size': 2, 'survivor_size': 2, 'generations': 100, 'hidden_layers': 0, 'hidden_layer_width': [20], 'mutation_rate_matrix': 1.0, 'mutation_rate_bias': 1.0, 'mutation_rate_activation_function': 1.0, 'mutation_rate_kernel': 1.0, 'crossover_rate': 1.0, 'gaussian_noise_stdd': 5.0, 'filter_strides': [2], 'pooling_strides': [2], 'conv_filter_shape': [(5, 5, 10)]}\n",
      "[0.3827, 0.3406, 0.3498, 0.3814, 0.3844, 0.4152, 0.4236, 0.4282, 0.4429, 0.4577, 0.4845, 0.4897, 0.4949, 0.4987, 0.5155]\n",
      "\n",
      "run: 23 contraction - max: 0.5155 {'population_size': 2, 'survivor_size': 2, 'generations': 100, 'hidden_layers': 0, 'hidden_layer_width': [26], 'mutation_rate_matrix': 1.0, 'mutation_rate_bias': 1.0, 'mutation_rate_activation_function': 1.0, 'mutation_rate_kernel': 1.0, 'crossover_rate': 1.0, 'gaussian_noise_stdd': 5.0, 'filter_strides': [2], 'pooling_strides': [2], 'conv_filter_shape': [(5, 5, 5)]}\n",
      "[0.3849, 0.3498, 0.3814, 0.3827, 0.3844, 0.4152, 0.4236, 0.4282, 0.4429, 0.4577, 0.4845, 0.4897, 0.4949, 0.4987, 0.5155]\n",
      "\n",
      "run: 24 contraction - max: 0.5155 {'population_size': 2, 'survivor_size': 2, 'generations': 100, 'hidden_layers': 0, 'hidden_layer_width': [31], 'mutation_rate_matrix': 1.0, 'mutation_rate_bias': 1.0, 'mutation_rate_activation_function': 1.0, 'mutation_rate_kernel': 1.0, 'crossover_rate': 1.0, 'gaussian_noise_stdd': 5.0, 'filter_strides': [2], 'pooling_strides': [2], 'conv_filter_shape': [(5, 5, 1)]}\n",
      "[0.3851, 0.3814, 0.3827, 0.3844, 0.3849, 0.4152, 0.4236, 0.4282, 0.4429, 0.4577, 0.4845, 0.4897, 0.4949, 0.4987, 0.5155]\n",
      "\n",
      "run: 25 contraction - max: 0.5155 {'population_size': 2, 'survivor_size': 2, 'generations': 100, 'hidden_layers': 0, 'hidden_layer_width': [26], 'mutation_rate_matrix': 1.0, 'mutation_rate_bias': 1.0, 'mutation_rate_activation_function': 1.0, 'mutation_rate_kernel': 1.0, 'crossover_rate': 1.0, 'gaussian_noise_stdd': 5.0, 'filter_strides': [2], 'pooling_strides': [2], 'conv_filter_shape': [(5, 5, 8)]}\n",
      "shrinking...\n",
      "[0.4171, 0.3408, 0.4831, 0.3442, 0.3448, 0.3083, 0.4456, 0.3866, 0.4421, 0.4169, 0.4466, 0.4954, 0.4863, 0.3913, 0.5155]\n",
      "\n",
      "run: 26 shrinking - max: 0.5155 {'population_size': 6, 'survivor_size': 6, 'generations': 100, 'hidden_layers': 0, 'hidden_layer_width': [22], 'mutation_rate_matrix': 1.0, 'mutation_rate_bias': 1.0, 'mutation_rate_activation_function': 1.0, 'mutation_rate_kernel': 1.0, 'crossover_rate': 1.0, 'gaussian_noise_stdd': 5.0, 'filter_strides': [2], 'pooling_strides': [2], 'conv_filter_shape': [(5, 5, 1)]}\n",
      "[0.368, 0.3408, 0.3442, 0.3448, 0.3866, 0.3913, 0.4169, 0.4171, 0.4421, 0.4456, 0.4466, 0.4831, 0.4863, 0.4954, 0.5155]\n",
      "\n",
      "run: 27 contraction - max: 0.5155 {'population_size': 2, 'survivor_size': 2, 'generations': 100, 'hidden_layers': 0, 'hidden_layer_width': [34], 'mutation_rate_matrix': 1.0, 'mutation_rate_bias': 1.0, 'mutation_rate_activation_function': 1.0, 'mutation_rate_kernel': 1.0, 'crossover_rate': 1.0, 'gaussian_noise_stdd': 5.0, 'filter_strides': [2], 'pooling_strides': [2], 'conv_filter_shape': [(5, 5, 7)]}\n",
      "shrinking...\n",
      "[0.4122, 0.3941, 0.4261, 0.3765, 0.434, 0.4905, 0.4203, 0.3878, 0.5025, 0.3713, 0.4593, 0.4209, 0.4182, 0.5369, 0.5155]\n",
      "\n",
      "run: 28 shrinking - max: 0.5369 {'population_size': 2, 'survivor_size': 2, 'generations': 100, 'hidden_layers': 0, 'hidden_layer_width': [33], 'mutation_rate_matrix': 1.0, 'mutation_rate_bias': 1.0, 'mutation_rate_activation_function': 1.0, 'mutation_rate_kernel': 1.0, 'crossover_rate': 1.0, 'gaussian_noise_stdd': 5.0, 'filter_strides': [2], 'pooling_strides': [2], 'conv_filter_shape': [(5, 5, 4)]}\n",
      "[0.3822, 0.3765, 0.3878, 0.3941, 0.4122, 0.4182, 0.4203, 0.4209, 0.4261, 0.434, 0.4593, 0.4905, 0.5025, 0.5155, 0.5369]\n",
      "\n",
      "run: 29 contraction - max: 0.5369 {'population_size': 2, 'survivor_size': 2, 'generations': 100, 'hidden_layers': 0, 'hidden_layer_width': [27], 'mutation_rate_matrix': 1.0, 'mutation_rate_bias': 1.0, 'mutation_rate_activation_function': 1.0, 'mutation_rate_kernel': 1.0, 'crossover_rate': 1.0, 'gaussian_noise_stdd': 5.0, 'filter_strides': [2], 'pooling_strides': [2], 'conv_filter_shape': [(5, 5, 1)]}\n",
      "shrinking...\n",
      "[0.4094, 0.3619, 0.4108, 0.3204, 0.4013, 0.3988, 0.3236, 0.4364, 0.3738, 0.4292, 0.4793, 0.4719, 0.4856, 0.4813, 0.5369]\n",
      "\n",
      "run: 30 shrinking - max: 0.5369 {'population_size': 2, 'survivor_size': 2, 'generations': 100, 'hidden_layers': 0, 'hidden_layer_width': [17], 'mutation_rate_matrix': 1.0, 'mutation_rate_bias': 1.0, 'mutation_rate_activation_function': 1.0, 'mutation_rate_kernel': 1.0, 'crossover_rate': 1.0, 'gaussian_noise_stdd': 5.0, 'filter_strides': [2], 'pooling_strides': [2], 'conv_filter_shape': [(5, 5, 4)]}\n",
      "[0.3379, 0.3236, 0.3619, 0.3738, 0.3988, 0.4013, 0.4094, 0.4108, 0.4292, 0.4364, 0.4719, 0.4793, 0.4813, 0.4856, 0.5369]\n",
      "\n",
      "run: 31 contraction - max: 0.5369 {'population_size': 2, 'survivor_size': 2, 'generations': 100, 'hidden_layers': 0, 'hidden_layer_width': [21], 'mutation_rate_matrix': 1.0, 'mutation_rate_bias': 1.0, 'mutation_rate_activation_function': 1.0, 'mutation_rate_kernel': 1.0, 'crossover_rate': 1.0, 'gaussian_noise_stdd': 5.0, 'filter_strides': [2], 'pooling_strides': [2], 'conv_filter_shape': [(5, 5, 1)]}\n",
      "[0.4263, 0.3379, 0.3619, 0.3738, 0.3988, 0.4013, 0.4094, 0.4108, 0.4292, 0.4364, 0.4719, 0.4793, 0.4813, 0.4856, 0.5369]\n",
      "\n",
      "run: 32 contraction - max: 0.5369 {'population_size': 2, 'survivor_size': 2, 'generations': 100, 'hidden_layers': 0, 'hidden_layer_width': [25], 'mutation_rate_matrix': 1.0, 'mutation_rate_bias': 1.0, 'mutation_rate_activation_function': 1.0, 'mutation_rate_kernel': 1.0, 'crossover_rate': 1.0, 'gaussian_noise_stdd': 5.0, 'filter_strides': [2], 'pooling_strides': [2], 'conv_filter_shape': [(5, 5, 1)]}\n",
      "shrinking...\n",
      "[0.3732, 0.3908, 0.3776, 0.4257, 0.3937, 0.3489, 0.4048, 0.4424, 0.344, 0.3909, 0.4728, 0.4767, 0.3689, 0.5164, 0.5369]\n",
      "\n",
      "run: 33 shrinking - max: 0.5369 {'population_size': 2, 'survivor_size': 2, 'generations': 100, 'hidden_layers': 0, 'hidden_layer_width': [20], 'mutation_rate_matrix': 1.0, 'mutation_rate_bias': 1.0, 'mutation_rate_activation_function': 1.0, 'mutation_rate_kernel': 1.0, 'crossover_rate': 1.0, 'gaussian_noise_stdd': 5.0, 'filter_strides': [2], 'pooling_strides': [2], 'conv_filter_shape': [(5, 5, 1)]}\n",
      "[0.353, 0.3489, 0.3689, 0.3732, 0.3776, 0.3908, 0.3909, 0.3937, 0.4048, 0.4257, 0.4424, 0.4728, 0.4767, 0.5164, 0.5369]\n",
      "\n",
      "run: 34 contraction - max: 0.5369 {'population_size': 2, 'survivor_size': 2, 'generations': 100, 'hidden_layers': 0, 'hidden_layer_width': [27], 'mutation_rate_matrix': 1.0, 'mutation_rate_bias': 1.0, 'mutation_rate_activation_function': 1.0, 'mutation_rate_kernel': 1.0, 'crossover_rate': 1.0, 'gaussian_noise_stdd': 5.0, 'filter_strides': [2], 'pooling_strides': [2], 'conv_filter_shape': [(5, 5, 1)]}\n",
      "[0.3688, 0.353, 0.3689, 0.3732, 0.3776, 0.3908, 0.3909, 0.3937, 0.4048, 0.4257, 0.4424, 0.4728, 0.4767, 0.5164, 0.5369]\n",
      "\n",
      "run: 35 contraction - max: 0.5369 {'population_size': 2, 'survivor_size': 2, 'generations': 100, 'hidden_layers': 0, 'hidden_layer_width': [18], 'mutation_rate_matrix': 1.0, 'mutation_rate_bias': 1.0, 'mutation_rate_activation_function': 1.0, 'mutation_rate_kernel': 1.0, 'crossover_rate': 1.0, 'gaussian_noise_stdd': 5.0, 'filter_strides': [2], 'pooling_strides': [2], 'conv_filter_shape': [(5, 5, 3)]}\n"
     ]
    },
    {
     "data": {
      "text/plain": "<Figure size 432x288 with 1 Axes>",
      "image/png": "[encoded data removed]"
     },
     "metadata": {
      "needs_background": "light"
     },
     "output_type": "display_data"
    },
    {
     "name": "stdout",
     "output_type": "stream",
     "text": [
      "\n",
      "\n",
      "Best performing network:\n",
      "population_size: 54\n",
      "survivor_size: 2\n",
      "generations: 100\n",
      "hidden_layers: 0\n",
      "hidden_layer_width: [1]\n",
      "mutation_rate_matrix: 0.7647562694221941\n",
      "mutation_rate_bias: 0.38064345253653187\n",
      "mutation_rate_activation_function: 0.4741352340592164\n",
      "mutation_rate_kernel: 0.43006492446449984\n",
      "crossover_rate: 0.9257393916120038\n",
      "gaussian_noise_stdd: 3.248376718056246\n",
      "filter_size: [4]\n",
      "n_filters: [28]\n",
      "filter_strides: [1]\n",
      "pooling_strides: [1]\n",
      "\n",
      "\n",
      "CPU times: total: 3h 41min 16s\n",
      "Wall time: 3h 40min 23s\n"
     ]
    }
   ],
   "source": [
    "%%time\n",
    "nelder_mead(ITERATIONS)"
   ],
   "metadata": {
    "collapsed": false,
    "pycharm": {
     "name": "#%%\n"
    }
   }
  },
  {
   "cell_type": "markdown",
   "source": [
    "TODO: allow only one survivor (elite) if crossover_rate == 0"
   ],
   "metadata": {
    "collapsed": false
   }
  }
 ],
 "metadata": {
  "kernelspec": {
   "display_name": "Python 3",
   "language": "python",
   "name": "python3"
  },
  "language_info": {
   "codemirror_mode": {
    "name": "ipython",
    "version": 2
   },
   "file_extension": ".py",
   "mimetype": "text/x-python",
   "name": "python",
   "nbconvert_exporter": "python",
   "pygments_lexer": "ipython2",
   "version": "2.7.6"
  }
 },
 "nbformat": 4,
 "nbformat_minor": 0
}